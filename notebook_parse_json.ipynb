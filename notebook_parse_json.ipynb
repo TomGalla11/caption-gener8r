{
 "cells": [
  {
   "cell_type": "code",
   "execution_count": 1,
   "metadata": {
    "ExecuteTime": {
     "end_time": "2019-11-16T23:29:19.884693Z",
     "start_time": "2019-11-16T23:29:13.821764Z"
    }
   },
   "outputs": [
    {
     "name": "stdout",
     "output_type": "stream",
     "text": [
      "throwing out: 82168 74.49\n",
      "\t no caption 13310 12.07\n",
      "\t no image 934 0.85\n",
      "\t scraper failed 67924 61.58\n",
      "usable: 28134 25.51\n",
      "\t valid collections: 0 0.0\n",
      "\t valid single photos: 28134 25.51\n"
     ]
    }
   ],
   "source": [
    "import json\n",
    "import os\n",
    "import numpy as np\n",
    "import pandas as pd\n",
    "\n",
    "identifier = []\n",
    "photos = []\n",
    "captions = []\n",
    "collections = 0\n",
    "photo_dump = 0\n",
    "num_dump = 0\n",
    "no_image = 0\n",
    "no_caption = 0\n",
    "has_quotes = 0\n",
    "scraper_failed = 0\n",
    "for fn in os.listdir(\"profiles_sejal/\"):\n",
    "    if fn.endswith(\".json\"):\n",
    "        f = open(\"profiles_sejal/\" + fn)\n",
    "        num_valid_entries = 0\n",
    "        num_invalid_entries = 0\n",
    "        data = json.load(f)\n",
    "        try:\n",
    "            posts = data[\"posts\"]\n",
    "        except:\n",
    "            if data[\"num_of_posts\"] > 0:\n",
    "                scraper_failed += data[\"num_of_posts\"]\n",
    "            exit\n",
    "        for p in posts:\n",
    "            if len(p[\"imgs\"]) == 0:\n",
    "                no_image += 1\n",
    "                num_valid_entries += 1\n",
    "            elif p[\"caption\"] == \"\":\n",
    "                no_caption += 1\n",
    "                num_invalid_entries += 1\n",
    "            else:\n",
    "                num_valid_entries += 1\n",
    "                if len(p[\"imgs\"]) > 1:\n",
    "                    print(\"collection\")\n",
    "                    collections += 1\n",
    "                identifier.append(data[\"username\"])\n",
    "                photos.append(p[\"imgs\"][0])\n",
    "                if '\"' in p[\"caption\"]:\n",
    "                    has_quotes += 1\n",
    "                captions.append(p[\"caption\"].replace('\"', '\\''))\n",
    "        scraper_failed += data[\"num_of_posts\"] - num_valid_entries - num_invalid_entries\n",
    "        f.close()\n",
    "\n",
    "total = len(captions) + photo_dump + collections + no_image + no_caption + scraper_failed\n",
    "print(\"throwing out:\", photo_dump + no_image + no_caption + scraper_failed, round((photo_dump + scraper_failed + no_image + no_caption) * 100 / total, 2))\n",
    "print(\"\\t no caption\", no_caption, round((no_caption / total) * 100, 2))\n",
    "print(\"\\t no image\", no_image, round((no_image / total) * 100, 2))\n",
    "print(\"\\t scraper failed\", scraper_failed, round(scraper_failed * 100/ total, 2))\n",
    "print(\"usable:\", len(captions) + collections, round((len(captions)+ collections)*100/total, 2))\n",
    "print(\"\\t valid collections:\", collections, round(collections* 100 / total, 2))\n",
    "print(\"\\t valid single photos:\", len(captions), round(len(captions)*100/total, 2))\n",
    "\n",
    "with open('data_sejal.csv', 'w') as f:\n",
    "    f.write(\"username,photo,caption\\n\")\n",
    "    for i in range(len(photos)):\n",
    "        f.write(\"%s,%s,\\\"%s\\\"\\n\" % (identifier[i],photos[i], captions[i]))\n",
    "f.close()\n",
    "\n",
    "try:\n",
    "    csv = pd.read_csv(\"data_sejal.csv\", header=0)\n",
    "    csv.drop_duplicates(keep=\"first\",inplace=True)\n",
    "    csv.to_csv(\"data_sejal.csv\", index=False)\n",
    "except:\n",
    "    print('pandas stuff did not work')\n"
   ]
  },
  {
   "cell_type": "code",
   "execution_count": null,
   "metadata": {},
   "outputs": [],
   "source": []
  }
 ],
 "metadata": {
  "kernelspec": {
   "display_name": "Python 3",
   "language": "python",
   "name": "python3"
  },
  "language_info": {
   "codemirror_mode": {
    "name": "ipython",
    "version": 3
   },
   "file_extension": ".py",
   "mimetype": "text/x-python",
   "name": "python",
   "nbconvert_exporter": "python",
   "pygments_lexer": "ipython3",
   "version": "3.6.6"
  },
  "toc": {
   "base_numbering": 1,
   "nav_menu": {},
   "number_sections": true,
   "sideBar": true,
   "skip_h1_title": false,
   "title_cell": "Table of Contents",
   "title_sidebar": "Contents",
   "toc_cell": false,
   "toc_position": {},
   "toc_section_display": true,
   "toc_window_display": false
  },
  "varInspector": {
   "cols": {
    "lenName": 16,
    "lenType": 16,
    "lenVar": 40
   },
   "kernels_config": {
    "python": {
     "delete_cmd_postfix": "",
     "delete_cmd_prefix": "del ",
     "library": "var_list.py",
     "varRefreshCmd": "print(var_dic_list())"
    },
    "r": {
     "delete_cmd_postfix": ") ",
     "delete_cmd_prefix": "rm(",
     "library": "var_list.r",
     "varRefreshCmd": "cat(var_dic_list()) "
    }
   },
   "types_to_exclude": [
    "module",
    "function",
    "builtin_function_or_method",
    "instance",
    "_Feature"
   ],
   "window_display": false
  }
 },
 "nbformat": 4,
 "nbformat_minor": 2
}
