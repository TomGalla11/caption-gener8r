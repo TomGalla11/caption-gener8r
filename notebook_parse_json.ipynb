{
 "cells": [
  {
   "cell_type": "code",
   "execution_count": 39,
   "metadata": {
    "ExecuteTime": {
     "end_time": "2019-11-18T02:18:45.376053Z",
     "start_time": "2019-11-18T02:18:44.385428Z"
    }
   },
   "outputs": [
    {
     "name": "stdout",
     "output_type": "stream",
     "text": [
      "scraper failed 220139 96.94\n",
      "throwing out: 2845 40.93\n",
      "\t no caption 404 5.81\n",
      "\t no image 1533 22.05\n",
      "\t collection 908 13.06\n",
      "usable: 4106 59.07\n",
      "\t mentions 1783 25.65\n",
      "\t hashtags 1852 26.64\n",
      "\t emojis 1494 21.49\n",
      "\t has quotes 135 1.94\n",
      "\t vanilla 1022 14.7\n",
      "post per user: [61, 69, 87, 24, 56, 93, 88, 60, 94, 96, 52, 19, 69, 0, 70, 83, 0, 88, 8, 36, 60, 100, 7, 12, 78, 68, 96, 71, 90, 72, 1, 8, 12, 90, 93, 97, 70, 86, 5, 7, 67, 88, 86, 9, 92, 80, 82, 78, 91, 96, 57, 12, 70, 85, 75, 97, 10, 80, 33, 83, 70, 0, 88, 99, 80, 83, 80, 60, 17, 11, 56, 50, 96, 18, 0, 11, 72, 11, 20, 90, 82, 82, 85, 79, 93, 100, 95, 75, 92, 93, 10, 94]\n"
     ]
    }
   ],
   "source": [
    "import json\n",
    "import os\n",
    "import numpy as np\n",
    "import pandas as pd\n",
    "import emoji\n",
    "\n",
    "root = \"verified\"\n",
    "\n",
    "def text_has_emoji(text):\n",
    "    for character in text:\n",
    "        if character in emoji.UNICODE_EMOJI:\n",
    "            return True\n",
    "    return False\n",
    "\n",
    "identifier = []\n",
    "photos = []\n",
    "captions = []\n",
    "collections = 0\n",
    "no_image = 0\n",
    "no_caption = 0\n",
    "has_quotes = 0\n",
    "scraper_failed = 0\n",
    "posts_per_user = []\n",
    "mentions = 0\n",
    "hashtags = 0\n",
    "emojis = 0\n",
    "vanilla = 0\n",
    "for fn in os.listdir(\"profiles_\" + root + \"/\"):\n",
    "    if fn.endswith(\".json\"):\n",
    "        f = open(\"profiles_\" + root + \"/\" + fn)\n",
    "        num_valid_entries = 0\n",
    "        num_invalid_entries = 0\n",
    "        data = json.load(f)\n",
    "        try:\n",
    "            posts = data[\"posts\"]\n",
    "        except:\n",
    "            if data[\"num_of_posts\"] >= 0 and data[\"num_of_posts\"] <= 100:\n",
    "                print(data[\"num_of_posts\"])\n",
    "                scraper_failed += data[\"num_of_posts\"]\n",
    "            else:\n",
    "                scraper_failed += 100\n",
    "        for p in posts:\n",
    "            if len(p[\"imgs\"]) > 1:\n",
    "                collections += 1\n",
    "                num_invalid_entries += 1\n",
    "            elif len(p[\"imgs\"]) == 0:\n",
    "                no_image += 1\n",
    "                num_valid_entries += 1\n",
    "            elif p[\"caption\"] == \"\":\n",
    "                no_caption += 1\n",
    "                num_invalid_entries += 1\n",
    "            else:\n",
    "                num_valid_entries += 1\n",
    "                vanilla_flag = True\n",
    "                identifier.append(data[\"username\"])\n",
    "                photos.append(p[\"imgs\"][0])\n",
    "                if '\"' in p[\"caption\"]:\n",
    "                    has_quotes += 1\n",
    "                    vanilla_flag = False\n",
    "                if '@' in p[\"caption\"]:\n",
    "                    mentions += 1\n",
    "                    vanilla_flag = False\n",
    "                if '#' in p[\"caption\"]:\n",
    "                    hashtags += 1\n",
    "                    vanilla_flag = False\n",
    "                if text_has_emoji(p[\"caption\"]):\n",
    "                    emojis += 1\n",
    "                    vanilla_flag = False\n",
    "                if vanilla_flag:\n",
    "                    vanilla += 1\n",
    "                captions.append(p[\"caption\"].replace('\"', '\\''))\n",
    "        posts_per_user.append(num_valid_entries)\n",
    "        if data\n",
    "        scraper_failed += 100 - num_valid_entries - num_invalid_entries\n",
    "        f.close()\n",
    "\n",
    "total = len(captions) + collections + no_image + no_caption\n",
    "print(\"scraper failed\", scraper_failed, round(scraper_failed * 100/ (total + scraper_failed), 2))\n",
    "print(\"throwing out:\", collections + no_image + no_caption, round((collections + no_image + no_caption) * 100 / total, 2))\n",
    "print(\"\\t no caption\", no_caption, round((no_caption / total) * 100, 2))\n",
    "print(\"\\t no image\", no_image, round((no_image / total) * 100, 2))\n",
    "print(\"\\t collection\", collections, round((collections / total) * 100, 2))\n",
    "print(\"usable:\", len(captions), round(len(captions)*100/total, 2))\n",
    "print(\"\\t mentions\", mentions, round((mentions / total) * 100, 2))\n",
    "print(\"\\t hashtags\", hashtags, round((hashtags / total) * 100, 2))\n",
    "print(\"\\t emojis\", emojis, round((emojis / total) * 100, 2))\n",
    "print(\"\\t has quotes\", has_quotes, round((has_quotes / total) * 100, 2))\n",
    "print(\"\\t vanilla\", vanilla, round((vanilla / total) * 100, 2))\n",
    "print(\"post per user:\", posts_per_user)\n",
    "\n",
    "with open('data_' + root + '.csv', 'w') as f:\n",
    "    f.write(\"username,photo,caption\\n\")\n",
    "    for i in range(len(photos)):\n",
    "        f.write(\"%s,%s,\\\"%s\\\"\\n\" % (identifier[i],photos[i], captions[i]))\n",
    "f.close()\n",
    "\n",
    "try:\n",
    "    csv = pd.read_csv('data_' + root + '.csv', header=0)\n",
    "    csv.drop_duplicates(keep=\"last\",inplace=True)\n",
    "    csv.to_csv('data_' + root + '.csv', index=False)\n",
    "except:\n",
    "    print('pandas stuff did not work')\n"
   ]
  },
  {
   "cell_type": "code",
   "execution_count": null,
   "metadata": {},
   "outputs": [],
   "source": []
  }
 ],
 "metadata": {
  "kernelspec": {
   "display_name": "Python 3",
   "language": "python",
   "name": "python3"
  },
  "language_info": {
   "codemirror_mode": {
    "name": "ipython",
    "version": 3
   },
   "file_extension": ".py",
   "mimetype": "text/x-python",
   "name": "python",
   "nbconvert_exporter": "python",
   "pygments_lexer": "ipython3",
   "version": "3.6.6"
  },
  "toc": {
   "base_numbering": 1,
   "nav_menu": {},
   "number_sections": true,
   "sideBar": true,
   "skip_h1_title": false,
   "title_cell": "Table of Contents",
   "title_sidebar": "Contents",
   "toc_cell": false,
   "toc_position": {},
   "toc_section_display": true,
   "toc_window_display": false
  },
  "varInspector": {
   "cols": {
    "lenName": 16,
    "lenType": 16,
    "lenVar": 40
   },
   "kernels_config": {
    "python": {
     "delete_cmd_postfix": "",
     "delete_cmd_prefix": "del ",
     "library": "var_list.py",
     "varRefreshCmd": "print(var_dic_list())"
    },
    "r": {
     "delete_cmd_postfix": ") ",
     "delete_cmd_prefix": "rm(",
     "library": "var_list.r",
     "varRefreshCmd": "cat(var_dic_list()) "
    }
   },
   "types_to_exclude": [
    "module",
    "function",
    "builtin_function_or_method",
    "instance",
    "_Feature"
   ],
   "window_display": false
  }
 },
 "nbformat": 4,
 "nbformat_minor": 2
}
