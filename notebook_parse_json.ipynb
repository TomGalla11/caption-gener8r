{
 "cells": [
  {
   "cell_type": "code",
   "execution_count": null,
   "metadata": {
    "ExecuteTime": {
     "start_time": "2019-11-25T16:00:14.231Z"
    }
   },
   "outputs": [
    {
     "name": "stdout",
     "output_type": "stream",
     "text": [
      "classification             # posts    pct %\n",
      "–––––––––––––––––––––––     ––––––   ––––––\n",
      "scraper failed               27816    29.58\n",
      "TOTAL SCRAPED              (66221)\n",
      "\n",
      "total number of users         1580\n",
      "mean ppu before              28.38\n",
      "mean ppu after               45.01\n",
      "dumping out (users)            633\n",
      "dumping out (posts)           2225\n",
      "median ppu before             15.0\n",
      "median ppu after              44.0\n",
      "\n",
      "THROWING OUT               (23598)  (35.64)\n",
      "no caption                    4728     7.14\n",
      "no image                      1676     2.53\n",
      "collection                   14969     22.6\n",
      "too few                       2225     3.36\n",
      "\n",
      "USABLE                     (42623)  (64.36)\n",
      "<< vanilla >>                18232    27.53\n",
      "<< non-vanilla >>            24391    36.83\n",
      "   mentions                   3343     5.05\n",
      "   hashtags                   7925    11.97\n",
      "   emojis                    15552    23.48\n",
      "   has quotes                  736     1.11\n"
     ]
    }
   ],
   "source": [
    "import json\n",
    "import os\n",
    "import numpy as np\n",
    "import pandas as pd\n",
    "import emoji\n",
    "\n",
    "#root = \"sejal\"\n",
    "\n",
    "dirs = [\"sejal\", \"camille\"]\n",
    "def text_has_emoji(text):\n",
    "    for character in text:\n",
    "        if character in emoji.UNICODE_EMOJI:\n",
    "            return True\n",
    "    return False\n",
    "\n",
    "identifier, photos, captions = [], [], []\n",
    "collections, no_image, no_caption = 0, 0, 0\n",
    "scraper_failed = 0\n",
    "posts_per_user = []\n",
    "mentions, hashtags, emojis, has_quotes, vanilla = 0, 0, 0, 0, 0\n",
    "running_total = 0\n",
    "for root in dirs:\n",
    "    for fn in os.listdir(\"profiles_\" + root + \"/\"):\n",
    "        if fn.endswith(\".json\"):\n",
    "            f = open(\"profiles_\" + root + \"/\" + fn)\n",
    "            num_valid_entries = 0\n",
    "            num_invalid_entries = 0\n",
    "            user_identifiers, user_photos, user_captions = [], [], []\n",
    "            h, m, q, e, v = 0, 0, 0, 0, 0\n",
    "            data = json.load(f)\n",
    "            try:\n",
    "                posts = data[\"posts\"]\n",
    "            except:\n",
    "                if data[\"num_of_posts\"] >= 0 and data[\"num_of_posts\"] <= 100:\n",
    "                    print(data[\"num_of_posts\"])\n",
    "                    scraper_failed += data[\"num_of_posts\"]\n",
    "                else:\n",
    "                    scraper_failed += 100\n",
    "            for p in posts:\n",
    "                if len(p[\"imgs\"]) > 1:\n",
    "                    collections += 1\n",
    "                    num_invalid_entries += 1\n",
    "                elif len(p[\"imgs\"]) == 0:\n",
    "                    no_image += 1\n",
    "                    num_valid_entries += 1\n",
    "                elif p[\"caption\"] == \"\":\n",
    "                    no_caption += 1\n",
    "                    num_invalid_entries += 1\n",
    "                else:\n",
    "                    num_valid_entries += 1\n",
    "                    vanilla_flag = True\n",
    "                    user_identifiers.append(data[\"username\"])\n",
    "                    user_photos.append(p[\"imgs\"][0])\n",
    "                    if '\"' in p[\"caption\"]:\n",
    "                        q += 1\n",
    "                        vanilla_flag = False\n",
    "                    if '@' in p[\"caption\"]:\n",
    "                        m += 1\n",
    "                        vanilla_flag = False\n",
    "                    if '#' in p[\"caption\"]:\n",
    "                        h += 1\n",
    "                        vanilla_flag = False\n",
    "                    if text_has_emoji(p[\"caption\"]):\n",
    "                        e += 1\n",
    "                        vanilla_flag = False\n",
    "                    if vanilla_flag:\n",
    "                        v += 1\n",
    "                    user_captions.append(p[\"caption\"].replace('\"', '\\''))\n",
    "            if num_valid_entries >= 10:\n",
    "                running_total += num_valid_entries\n",
    "                hashtags += h\n",
    "                has_quotes += q\n",
    "                mentions += m\n",
    "                emojis += e\n",
    "                vanilla += v\n",
    "                identifier.append(user_identifiers)\n",
    "                photos.append(user_photos)\n",
    "                captions.append(user_captions)\n",
    "            else:\n",
    "                pass\n",
    "            posts_per_user.append(num_valid_entries)\n",
    "            if data[\"num_of_posts\"] < 100:\n",
    "                scraper_failed += data[\"num_of_posts\"] - num_valid_entries - num_invalid_entries\n",
    "            else:\n",
    "                scraper_failed += 100 - num_valid_entries - num_invalid_entries\n",
    "            f.close()\n",
    "        \n",
    "left_space = 25\n",
    "num_space = 8\n",
    "too_few = sum([p if (p < 10 and p > 0) else 0 for p in posts_per_user])\n",
    "total = running_total + collections + no_image + no_caption + too_few\n",
    "print(\"classification\".ljust(left_space), \"# posts\".rjust(num_space), \"pct %\".rjust(num_space))\n",
    "print(\"–––––––––––––––––––––––\".ljust(left_space), \"––––––\".rjust(num_space), \"––––––\".rjust(num_space))\n",
    "print(\"scraper failed\".ljust(left_space), str(scraper_failed).rjust(num_space), str(round(scraper_failed * 100/ (total + scraper_failed), 2)).rjust(num_space))\n",
    "print(\"TOTAL SCRAPED\".ljust(left_space), (\"(\"+str(total)+\")\").rjust(num_space))\n",
    "print(\"\")\n",
    "print(\"total number of users\".ljust(left_space), str(len(posts_per_user)).rjust(num_space))\n",
    "posts_per_user2 = [p for p in posts_per_user if p >= 10]\n",
    "print(\"mean ppu before\".ljust(left_space), str(round(np.mean(posts_per_user), 2)).rjust(num_space))\n",
    "print(\"mean ppu after\".ljust(left_space), str(round(np.mean(posts_per_user2), 2)).rjust(num_space))\n",
    "print(\"dumping out (users)\".ljust(left_space), str(len(posts_per_user) - len(posts_per_user2)).rjust(num_space))\n",
    "print(\"dumping out (posts)\".ljust(left_space), str(too_few).rjust(num_space))\n",
    "print(\"median ppu before\".ljust(left_space), str(np.median(posts_per_user)).rjust(num_space))\n",
    "print(\"median ppu after\".ljust(left_space), str(np.median(posts_per_user2)).rjust(num_space))\n",
    "print(\"\")\n",
    "\n",
    "throwing_out = collections + no_image + no_caption + too_few\n",
    "print(\"THROWING OUT\".ljust(left_space), (\"(\" + str(throwing_out) + \")\").rjust(num_space), (\"(\"+str(round(throwing_out * 100 / total, 2))+\")\").rjust(num_space))\n",
    "print(\"no caption\".ljust(left_space), str(no_caption).rjust(num_space), str(round((no_caption / total) * 100, 2)).rjust(num_space))\n",
    "print(\"no image\".ljust(left_space), str(no_image).rjust(num_space), str(round((no_image / total) * 100, 2)).rjust(num_space))\n",
    "print(\"collection\".ljust(left_space), str(collections).rjust(num_space), str(round((collections / total) * 100, 2)).rjust(num_space))\n",
    "print(\"too few\".ljust(left_space), str(too_few).rjust(num_space), str(round((too_few / total) * 100, 2)).rjust(num_space))\n",
    "print(\"\")\n",
    "\n",
    "print(\"USABLE\".ljust(left_space), (\"(\" + str(running_total) + \")\").rjust(num_space), (\"(\"+str(round(running_total*100/total, 2))+\")\").rjust(num_space))\n",
    "print(\"<< vanilla >>\".ljust(left_space), str(vanilla).rjust(num_space), str(round((vanilla / total) * 100, 2)).rjust(num_space))\n",
    "nonvanilla = running_total - vanilla\n",
    "print(\"<< non-vanilla >>\".ljust(left_space), str(nonvanilla).rjust(num_space), str(round((nonvanilla / total) * 100, 2)).rjust(num_space))\n",
    "print(\"   mentions\".ljust(left_space), str(mentions).rjust(num_space), str(round((mentions / total) * 100, 2)).rjust(num_space))\n",
    "print(\"   hashtags\".ljust(left_space), str(hashtags).rjust(num_space), str(round((hashtags / total) * 100, 2)).rjust(num_space))\n",
    "print(\"   emojis\".ljust(left_space), str(emojis).rjust(num_space), str(round((emojis / total) * 100, 2)).rjust(num_space))\n",
    "print(\"   has quotes\".ljust(left_space), str(has_quotes).rjust(num_space), str(round((has_quotes / total) * 100, 2)).rjust(num_space))\n",
    "\n",
    "#print(\"–––––––––––––––––––––––––\".center(left_space), \"–––––\".rjust(num_space), \"–––––\".rjust(num_space))\n",
    "\n",
    "#with open('data_' + root + '.csv', 'w') as f:\n",
    "with open('masterdata.csv', 'w') as f:\n",
    "    f.write(\"username,photo,caption\\n\")\n",
    "    for i in range(len(photos)):\n",
    "        for j in range(len(photos[i])):\n",
    "            f.write(\"%s,%s,\\\"%s\\\"\\n\" % (identifier[i][j],photos[i][j], captions[i][j]))\n",
    "f.close()\n",
    "\n",
    "try:\n",
    "    #csv = pd.read_csv('data_' + root + '.csv', header=0)\n",
    "    csv = pd.read_csv('masterdata.csv', header=0)\n",
    "    csv.drop_duplicates(keep=\"last\",inplace=True)\n",
    "    #csv.to_csv('data_' + root + '.csv', index=False)\n",
    "    csv.to_csv('masterdata.csv', index=False)\n",
    "except:\n",
    "    print('pandas stuff did not work')\n"
   ]
  },
  {
   "cell_type": "code",
   "execution_count": 51,
   "metadata": {
    "ExecuteTime": {
     "end_time": "2019-11-22T11:37:25.535034Z",
     "start_time": "2019-11-22T11:37:25.378611Z"
    }
   },
   "outputs": [
    {
     "data": {
      "image/png": "[encoded data removed]",
      "text/plain": [
       "<Figure size 432x288 with 1 Axes>"
      ]
     },
     "metadata": {},
     "output_type": "display_data"
    }
   ],
   "source": [
    "import matplotlib.pyplot as plt\n",
    "pieLabels = ['Asia', 'Africa', 'Europe', 'North America', 'South America', 'Australia']\n",
    "populationShare = [59.69, 16, 9.94, 7.79, 5.68, 0.54]\n",
    "figureObject, axesObject = plt.subplots()\n",
    "axesObject.pie(populationShare, labels=pieLabels, autopct='%1.2f', startangle=90)\n",
    "axesObject.axis('equal')\n",
    "plt.show()"
   ]
  },
  {
   "cell_type": "code",
   "execution_count": 8,
   "metadata": {
    "ExecuteTime": {
     "end_time": "2019-11-25T15:23:30.862482Z",
     "start_time": "2019-11-25T15:23:30.659318Z"
    }
   },
   "outputs": [
    {
     "name": "stdout",
     "output_type": "stream",
     "text": [
      "[[ 4607  1630 14824  2219]\n",
      " [18139 24023     0     0]]\n"
     ]
    },
    {
     "data": {
      "image/png": "[encoded data removed]",
      "text/plain": [
       "<Figure size 432x288 with 1 Axes>"
      ]
     },
     "metadata": {},
     "output_type": "display_data"
    }
   ],
   "source": [
    "import matplotlib.pyplot as plt\n",
    "\n",
    "fig, ax = plt.subplots(subplot_kw=dict(polar=True))\n",
    "\n",
    "size = 0.3\n",
    "vals = np.array([[no_caption, no_image, collections, too_few], [vanilla, nonvanilla, 0, 0]])\n",
    "labels = np.array([[\"no caption\", \"no image\", \"collection\", \"too few\"], [\"vanilla\", \"non-vanilla\", 0, 0]])\n",
    "print(vals)\n",
    "#normalize vals to 2 pi\n",
    "valsnorm = vals/np.sum(vals)*2*np.pi\n",
    "#obtain the ordinates of the bar edges\n",
    "valsleft = np.cumsum(np.append(0, valsnorm.flatten()[:-1])).reshape(vals.shape)\n",
    "\n",
    "cmap = plt.get_cmap(\"tab20c\")\n",
    "outer_colors = cmap(np.arange(2)*4)\n",
    "inner_colors = cmap(np.array([0, 1, 2, 3, 5, 6, 0, 0]))\n",
    "\n",
    "ax.bar(x=valsleft[:, 0],\n",
    "       width=valsnorm.sum(axis=1), bottom=1-size, height=size,\n",
    "       color=outer_colors, edgecolor='w', linewidth=1, label=labels, align=\"edge\")\n",
    "\n",
    "ax.bar(x=valsleft.flatten(),\n",
    "       width=valsnorm.flatten(), bottom=1-2*size, height=size,\n",
    "       color=inner_colors, edgecolor='w', linewidth=1, align=\"edge\")\n",
    "\n",
    "ax.set(title=\"Pie plot with `ax.bar` and polar coordinates\")\n",
    "ax.set_axis_off()\n",
    "plt.show()"
   ]
  },
  {
   "cell_type": "code",
   "execution_count": null,
   "metadata": {},
   "outputs": [],
   "source": [
    "import csv\n",
    "csv_file = 'camillebowman_followers.csv'\n",
    "txt_file = 'camille_followers.txt'\n",
    "with open(txt_file, \"w\") as my_output_file:\n",
    "    with open(csv_file, \"r\") as my_input_file:\n",
    "        i = 0\n",
    "        for row in csv.reader(my_input_file):\n",
    "            if i == 0:\n",
    "                my_output_file.write(''.join(row)[1::] + '\\n')\n",
    "            elif i % 2 == 0:\n",
    "                my_output_file.write(''.join(row) + '\\n')\n",
    "            i += 1\n",
    "    my_output_file.close()"
   ]
  }
 ],
 "metadata": {
  "kernelspec": {
   "display_name": "Python 3",
   "language": "python",
   "name": "python3"
  },
  "language_info": {
   "codemirror_mode": {
    "name": "ipython",
    "version": 3
   },
   "file_extension": ".py",
   "mimetype": "text/x-python",
   "name": "python",
   "nbconvert_exporter": "python",
   "pygments_lexer": "ipython3",
   "version": "3.6.6"
  },
  "toc": {
   "base_numbering": 1,
   "nav_menu": {},
   "number_sections": true,
   "sideBar": true,
   "skip_h1_title": false,
   "title_cell": "Table of Contents",
   "title_sidebar": "Contents",
   "toc_cell": false,
   "toc_position": {},
   "toc_section_display": true,
   "toc_window_display": false
  },
  "varInspector": {
   "cols": {
    "lenName": 16,
    "lenType": 16,
    "lenVar": 40
   },
   "kernels_config": {
    "python": {
     "delete_cmd_postfix": "",
     "delete_cmd_prefix": "del ",
     "library": "var_list.py",
     "varRefreshCmd": "print(var_dic_list())"
    },
    "r": {
     "delete_cmd_postfix": ") ",
     "delete_cmd_prefix": "rm(",
     "library": "var_list.r",
     "varRefreshCmd": "cat(var_dic_list()) "
    }
   },
   "types_to_exclude": [
    "module",
    "function",
    "builtin_function_or_method",
    "instance",
    "_Feature"
   ],
   "window_display": false
  }
 },
 "nbformat": 4,
 "nbformat_minor": 2
}
