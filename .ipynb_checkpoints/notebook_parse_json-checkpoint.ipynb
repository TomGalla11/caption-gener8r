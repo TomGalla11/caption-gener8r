{
 "cells": [
  {
   "cell_type": "code",
   "execution_count": 48,
   "metadata": {
    "ExecuteTime": {
     "end_time": "2019-11-18T16:19:22.075531Z",
     "start_time": "2019-11-18T16:19:20.563373Z"
    }
   },
   "outputs": [
    {
     "name": "stdout",
     "output_type": "stream",
     "text": [
      "scraper failed 21632 33.79\n",
      "throwing out: 14244 33.61\n",
      "\t no caption 3317 7.83\n",
      "\t no image 934 2.2\n",
      "\t collection 9993 23.58\n",
      "usable: 28134 66.39\n",
      "\t mentions 2126 5.02\n",
      "\t hashtags 4739 11.18\n",
      "\t emojis 10263 24.22\n",
      "\t has quotes 465 1.1\n",
      "\t vanilla 13162 31.06\n",
      "post per user: [6, 48, 0, 13, 11, 70, 1, 41, 0, 7, 77, 54, 78, 54, 4, 94, 16, 17, 32, 1, 3, 17, 5, 9, 10, 48, 53, 0, 0, 72, 12, 11, 2, 55, 27, 59, 16, 56, 70, 44, 0, 5, 0, 10, 11, 24, 0, 1, 18, 89, 9, 3, 88, 11, 1, 4, 28, 39, 13, 24, 12, 44, 0, 6, 6, 33, 80, 1, 1, 10, 0, 12, 0, 10, 0, 6, 15, 0, 14, 48, 0, 15, 5, 39, 7, 64, 0, 10, 4, 4, 73, 1, 49, 0, 17, 75, 59, 72, 7, 8, 60, 11, 28, 17, 26, 22, 71, 12, 8, 0, 0, 10, 9, 11, 0, 0, 60, 62, 70, 0, 0, 70, 22, 63, 9, 9, 47, 57, 41, 6, 22, 0, 0, 33, 5, 8, 6, 81, 77, 9, 82, 72, 13, 0, 14, 1, 5, 81, 38, 5, 4, 5, 0, 0, 8, 64, 4, 52, 10, 13, 0, 3, 0, 19, 47, 21, 70, 71, 4, 71, 74, 3, 5, 8, 0, 20, 15, 87, 51, 5, 12, 0, 7, 1, 54, 5, 33, 82, 1, 55, 29, 0, 27, 58, 15, 9, 0, 3, 19, 6, 37, 0, 9, 47, 0, 46, 58, 76, 6, 6, 61, 18, 7, 75, 75, 4, 0, 30, 7, 50, 21, 5, 11, 67, 59, 3, 0, 2, 68, 58, 5, 2, 4, 20, 5, 85, 42, 78, 0, 28, 24, 25, 13, 4, 77, 76, 9, 15, 0, 5, 6, 8, 51, 10, 51, 30, 3, 5, 65, 85, 33, 0, 2, 29, 3, 36, 9, 0, 5, 12, 0, 0, 51, 78, 8, 1, 76, 83, 1, 3, 77, 0, 3, 16, 81, 32, 11, 88, 26, 3, 0, 65, 7, 77, 55, 6, 90, 0, 19, 0, 4, 85, 55, 58, 0, 16, 9, 5, 65, 35, 91, 20, 71, 57, 25, 84, 0, 33, 42, 2, 2, 93, 12, 35, 0, 10, 85, 23, 1, 4, 7, 15, 0, 23, 5, 0, 10, 81, 6, 0, 6, 8, 68, 0, 49, 48, 53, 17, 22, 17, 77, 69, 0, 20, 32, 0, 62, 11, 8, 52, 8, 0, 1, 19, 7, 78, 18, 14, 6, 1, 5, 7, 18, 20, 6, 12, 49, 35, 66, 11, 5, 58, 77, 33, 7, 32, 49, 39, 2, 8, 9, 19, 6, 37, 7, 9, 10, 5, 73, 65, 34, 61, 3, 0, 11, 11, 11, 83, 34, 5, 0, 44, 36, 19, 6, 6, 25, 13, 8, 7, 4, 74, 12, 7, 10, 66, 36, 13, 0, 50, 9, 2, 9, 15, 14, 0, 1, 3, 75, 5, 16, 7, 5, 18, 87, 0, 72, 5, 8, 12, 6, 45, 7, 3, 9, 0, 54, 0, 70, 1, 6, 7, 72, 9, 2, 1, 4, 15, 5, 90, 30, 39, 42, 70, 10, 7, 42, 2, 4, 11, 47, 1, 6, 5, 7, 4, 20, 0, 12, 56, 0, 10, 33, 5, 4, 11, 1, 16, 0, 5, 3, 0, 0, 32, 20, 1, 7, 10, 59, 45, 0, 7, 0, 72, 29, 65, 76, 71, 0, 14, 1, 4, 40, 2, 7, 1, 67, 30, 58, 0, 5, 12, 2, 2, 51, 74, 1, 0, 15, 8, 47, 50, 13, 2, 47, 46, 12, 42, 23, 9, 1, 24, 63, 6, 21, 48, 16, 4, 71, 1, 5, 11, 23, 3, 67, 18, 70, 0, 11, 81, 71, 18, 0, 12, 0, 75, 78, 0, 2, 52, 5, 0, 90, 40, 19, 2, 14, 73, 0, 10, 13, 1, 12, 35, 58, 0, 80, 21, 1, 7, 25, 0, 15, 85, 62, 14, 60, 1, 13, 2, 8, 43, 5, 88, 14, 68, 6, 94, 0, 75, 78, 66, 15, 14, 1, 45, 6, 5, 0, 63, 0, 80, 5, 48, 8, 21, 78, 6, 5, 8, 14, 67, 18, 0, 82, 45, 10, 19, 0, 82, 48, 78, 65, 1, 7, 74, 16, 23, 51, 30, 36, 1, 2, 8, 13, 79, 12, 14, 7, 39, 13, 67, 14, 7, 18, 11, 84, 74, 4, 9, 12, 34, 11, 95, 0, 47, 51, 82, 54, 30, 0, 88, 16, 1, 38, 21, 74, 76, 13, 0, 2, 7, 5, 2, 9, 4, 36, 1, 3, 6, 14, 0, 86, 47, 21, 75, 10, 48, 1, 69, 69, 15, 11, 40, 8, 77, 73, 7, 47, 72, 0, 8, 0, 9, 3, 82, 51, 67, 49, 7, 77, 62, 2, 0, 4, 43, 15, 0, 33, 4, 0, 0, 13, 24, 7, 4, 0, 23, 4, 6, 92, 14, 3, 72, 24, 0, 7, 3, 9, 7, 1, 15, 5, 6, 0, 21, 60, 78, 2, 77, 32, 18, 4, 0, 4, 12, 0, 44, 9, 52, 79, 7, 0, 38, 18, 4, 71, 0, 61, 12, 82, 3, 8, 10, 18, 79, 31, 10, 66, 17, 2, 84, 1, 7, 5, 16, 50, 5, 0, 80, 16, 51, 9, 2, 62, 5, 11, 48, 8, 13, 25, 32, 2, 0, 14, 6, 66, 71, 13, 79, 17, 5, 40, 0, 21, 76, 85, 38, 22, 15, 47, 9, 8, 4, 33, 44, 65, 41, 80, 81, 10, 6, 80, 63, 5, 7, 26, 16, 12, 77, 1, 2, 60, 61, 16, 1, 0, 39, 2, 85, 6, 13, 4, 6, 0, 39, 69, 3, 8, 54, 34, 0, 6, 30, 71, 14, 3, 51, 0, 3, 8, 64, 18, 61, 19, 19, 78, 9, 74, 5, 68, 51, 75, 8, 37, 29, 8, 12, 14, 1, 46, 6, 32, 2, 84, 59, 35, 70, 8, 0, 3, 9, 15, 0, 58, 12, 1, 63, 78, 11, 59, 17, 1, 10, 0, 63, 12, 8, 7, 7, 2, 11, 45, 61, 67, 8, 8, 56, 55, 54, 7, 85, 82, 25, 19, 13, 4, 3, 69, 55, 0, 0, 61, 0, 6, 47, 61, 16, 0, 6, 1, 53, 92, 8, 10, 4, 20, 7, 41, 6, 3, 55, 43, 13, 24, 10, 41, 66, 35, 15, 7, 7, 55, 65, 7, 45, 84, 0, 6, 66, 6, 88, 41, 5, 52, 50, 89, 5, 0, 85, 72, 37, 3, 81, 67, 12, 68, 96, 7, 63, 55, 14, 17, 23, 0, 0, 8, 37, 17, 78, 9, 89, 1, 41, 12, 0, 70, 8, 11, 8, 89, 46, 4, 19, 0, 6, 4, 72, 0, 7, 1, 100, 16, 3, 15, 38, 17, 87, 4, 5, 3, 6, 85, 71, 9, 57, 9, 2, 65, 6, 78, 0, 10, 3, 1, 83, 12, 6, 0] 1089\n",
      "\t average posts per user: 26.692378328741967\n",
      "\t median posts per user: 13.0\n",
      "\t number of posts that would be thrown out: 1690\n"
     ]
    }
   ],
   "source": [
    "import json\n",
    "import os\n",
    "import numpy as np\n",
    "import pandas as pd\n",
    "import emoji\n",
    "\n",
    "root = \"sejal\"\n",
    "\n",
    "def text_has_emoji(text):\n",
    "    for character in text:\n",
    "        if character in emoji.UNICODE_EMOJI:\n",
    "            return True\n",
    "    return False\n",
    "\n",
    "identifier = []\n",
    "photos = []\n",
    "captions = []\n",
    "collections = 0\n",
    "no_image = 0\n",
    "no_caption = 0\n",
    "has_quotes = 0\n",
    "scraper_failed = 0\n",
    "posts_per_user = []\n",
    "mentions = 0\n",
    "hashtags = 0\n",
    "emojis = 0\n",
    "vanilla = 0\n",
    "for fn in os.listdir(\"profiles_\" + root + \"/\"):\n",
    "    if fn.endswith(\".json\"):\n",
    "        f = open(\"profiles_\" + root + \"/\" + fn)\n",
    "        num_valid_entries = 0\n",
    "        num_invalid_entries = 0\n",
    "        data = json.load(f)\n",
    "        try:\n",
    "            posts = data[\"posts\"]\n",
    "        except:\n",
    "            if data[\"num_of_posts\"] >= 0 and data[\"num_of_posts\"] <= 100:\n",
    "                print(data[\"num_of_posts\"])\n",
    "                scraper_failed += data[\"num_of_posts\"]\n",
    "            else:\n",
    "                scraper_failed += 100\n",
    "        for p in posts:\n",
    "            if len(p[\"imgs\"]) > 1:\n",
    "                collections += 1\n",
    "                num_invalid_entries += 1\n",
    "            elif len(p[\"imgs\"]) == 0:\n",
    "                no_image += 1\n",
    "                num_valid_entries += 1\n",
    "            elif p[\"caption\"] == \"\":\n",
    "                no_caption += 1\n",
    "                num_invalid_entries += 1\n",
    "            else:\n",
    "                num_valid_entries += 1\n",
    "                vanilla_flag = True\n",
    "                identifier.append(data[\"username\"])\n",
    "                photos.append(p[\"imgs\"][0])\n",
    "                if '\"' in p[\"caption\"]:\n",
    "                    has_quotes += 1\n",
    "                    vanilla_flag = False\n",
    "                if '@' in p[\"caption\"]:\n",
    "                    mentions += 1\n",
    "                    vanilla_flag = False\n",
    "                if '#' in p[\"caption\"]:\n",
    "                    hashtags += 1\n",
    "                    vanilla_flag = False\n",
    "                if text_has_emoji(p[\"caption\"]):\n",
    "                    emojis += 1\n",
    "                    vanilla_flag = False\n",
    "                if vanilla_flag:\n",
    "                    vanilla += 1\n",
    "                captions.append(p[\"caption\"].replace('\"', '\\''))\n",
    "        posts_per_user.append(num_valid_entries)\n",
    "        if data[\"num_of_posts\"] < 100:\n",
    "            scraper_failed += data[\"num_of_posts\"] - num_valid_entries - num_invalid_entries\n",
    "        else:\n",
    "            scraper_failed += 100 - num_valid_entries - num_invalid_entries\n",
    "        f.close()\n",
    "\n",
    "total = len(captions) + collections + no_image + no_caption\n",
    "print(\"scraper failed\", scraper_failed, round(scraper_failed * 100/ (total + scraper_failed), 2))\n",
    "print(\"throwing out:\", collections + no_image + no_caption, round((collections + no_image + no_caption) * 100 / total, 2))\n",
    "print(\"\\t no caption\", no_caption, round((no_caption / total) * 100, 2))\n",
    "print(\"\\t no image\", no_image, round((no_image / total) * 100, 2))\n",
    "print(\"\\t collection\", collections, round((collections / total) * 100, 2))\n",
    "print(\"usable:\", len(captions), round(len(captions)*100/total, 2))\n",
    "print(\"\\t mentions\", mentions, round((mentions / total) * 100, 2))\n",
    "print(\"\\t hashtags\", hashtags, round((hashtags / total) * 100, 2))\n",
    "print(\"\\t emojis\", emojis, round((emojis / total) * 100, 2))\n",
    "print(\"\\t has quotes\", has_quotes, round((has_quotes / total) * 100, 2))\n",
    "print(\"\\t vanilla\", vanilla, round((vanilla / total) * 100, 2))\n",
    "print(\"post per user:\", posts_per_user, len(posts_per_user))\n",
    "print(\"\\t average posts per user:\", np.mean(posts_per_user))\n",
    "print(\"\\t median posts per user:\", np.median(posts_per_user))\n",
    "print(\"\\t number of posts that would be thrown out:\", sum([p if (p < 10 and p > 0) else 0 for p in posts_per_user]))\n",
    "\n",
    "with open('data_' + root + '.csv', 'w') as f:\n",
    "    f.write(\"username,photo,caption\\n\")\n",
    "    for i in range(len(photos)):\n",
    "        f.write(\"%s,%s,\\\"%s\\\"\\n\" % (identifier[i],photos[i], captions[i]))\n",
    "f.close()\n",
    "\n",
    "try:\n",
    "    csv = pd.read_csv('data_' + root + '.csv', header=0)\n",
    "    csv.drop_duplicates(keep=\"last\",inplace=True)\n",
    "    csv.to_csv('data_' + root + '.csv', index=False)\n",
    "except:\n",
    "    print('pandas stuff did not work')\n"
   ]
  },
  {
   "cell_type": "code",
   "execution_count": 51,
   "metadata": {
    "ExecuteTime": {
     "end_time": "2019-11-22T11:37:25.535034Z",
     "start_time": "2019-11-22T11:37:25.378611Z"
    }
   },
   "outputs": [
    {
     "data": {
      "image/png": "[encoded data removed]",
      "text/plain": [
       "<Figure size 432x288 with 1 Axes>"
      ]
     },
     "metadata": {},
     "output_type": "display_data"
    }
   ],
   "source": [
    "import matplotlib.pyplot as plt\n",
    "pieLabels = ['Asia', 'Africa', 'Europe', 'North America', 'South America', 'Australia']\n",
    "populationShare = [59.69, 16, 9.94, 7.79, 5.68, 0.54]\n",
    "figureObject, axesObject = plt.subplots()\n",
    "axesObject.pie(populationShare, labels=pieLabels, autopct='%1.2f', startangle=90)\n",
    "axesObject.axis('equal')\n",
    "plt.show()"
   ]
  },
  {
   "cell_type": "code",
   "execution_count": 72,
   "metadata": {
    "ExecuteTime": {
     "end_time": "2019-11-22T11:57:28.046242Z",
     "start_time": "2019-11-22T11:57:27.876088Z"
    }
   },
   "outputs": [
    {
     "name": "stdout",
     "output_type": "stream",
     "text": [
      "[[ 3317   934  9993     0     0]\n",
      " [ 2126  4739 10263   465 13162]]\n"
     ]
    },
    {
     "data": {
      "image/png": "[encoded data removed]",
      "text/plain": [
       "<Figure size 432x288 with 1 Axes>"
      ]
     },
     "metadata": {},
     "output_type": "display_data"
    }
   ],
   "source": [
    "fig, ax = plt.subplots(subplot_kw=dict(polar=True))\n",
    "\n",
    "size = 0.3\n",
    "vals = np.array([[no_caption, no_image, collections, 0, 0], [mentions, hashtags, emojis, has_quotes, vanilla]])\n",
    "labels = np.array([[\"no caption\", \"no image\", \"collection\", 0, 0], [\"mentions\", \"hashtags\", \"emojis\", \"has quotes\", \"vanilla\"]])\n",
    "#vals = np.array([[3317, 934, 9993], [2126, 4739, 10263, 465, 13162]])\n",
    "#vals = np.array([[60, 32], [37, 40], [29, 10]])\n",
    "print(vals)\n",
    "#normalize vals to 2 pi\n",
    "valsnorm = vals/np.sum(vals)*2*np.pi\n",
    "#obtain the ordinates of the bar edges\n",
    "valsleft = np.cumsum(np.append(0, valsnorm.flatten()[:-1])).reshape(vals.shape)\n",
    "\n",
    "cmap = plt.get_cmap(\"tab20c\")\n",
    "outer_colors = cmap(np.arange(2)*4)\n",
    "inner_colors = cmap(np.array([1, 2, 3, 0, 0, 5, 6, 5, 6, 5]))\n",
    "\n",
    "ax.bar(x=valsleft[:, 0],\n",
    "       width=valsnorm.sum(axis=1), bottom=1-size, height=size,\n",
    "       color=outer_colors, edgecolor='w', linewidth=1, align=\"edge\")\n",
    "\n",
    "ax.bar(x=valsleft.flatten(),\n",
    "       width=valsnorm.flatten(), bottom=1-2*size, height=size,\n",
    "       color=inner_colors, edgecolor='w', linewidth=1, align=\"edge\")\n",
    "\n",
    "ax.set(title=\"Pie plot with `ax.bar` and polar coordinates\")\n",
    "ax.set_axis_off()\n",
    "plt.show()"
   ]
  },
  {
   "cell_type": "code",
   "execution_count": null,
   "metadata": {},
   "outputs": [],
   "source": []
  }
 ],
 "metadata": {
  "kernelspec": {
   "display_name": "Python 3",
   "language": "python",
   "name": "python3"
  },
  "language_info": {
   "codemirror_mode": {
    "name": "ipython",
    "version": 3
   },
   "file_extension": ".py",
   "mimetype": "text/x-python",
   "name": "python",
   "nbconvert_exporter": "python",
   "pygments_lexer": "ipython3",
   "version": "3.6.6"
  },
  "toc": {
   "base_numbering": 1,
   "nav_menu": {},
   "number_sections": true,
   "sideBar": true,
   "skip_h1_title": false,
   "title_cell": "Table of Contents",
   "title_sidebar": "Contents",
   "toc_cell": false,
   "toc_position": {},
   "toc_section_display": true,
   "toc_window_display": false
  },
  "varInspector": {
   "cols": {
    "lenName": 16,
    "lenType": 16,
    "lenVar": 40
   },
   "kernels_config": {
    "python": {
     "delete_cmd_postfix": "",
     "delete_cmd_prefix": "del ",
     "library": "var_list.py",
     "varRefreshCmd": "print(var_dic_list())"
    },
    "r": {
     "delete_cmd_postfix": ") ",
     "delete_cmd_prefix": "rm(",
     "library": "var_list.r",
     "varRefreshCmd": "cat(var_dic_list()) "
    }
   },
   "types_to_exclude": [
    "module",
    "function",
    "builtin_function_or_method",
    "instance",
    "_Feature"
   ],
   "window_display": false
  }
 },
 "nbformat": 4,
 "nbformat_minor": 2
}
