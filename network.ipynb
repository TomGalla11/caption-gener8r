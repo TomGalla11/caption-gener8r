{
 "cells": [
  {
   "cell_type": "code",
   "execution_count": 23,
   "metadata": {},
   "outputs": [
    {
     "name": "stdout",
     "output_type": "stream",
     "text": [
      "        username                                              photo  \\\n",
      "0  eestevens0131  https://scontent-arn2-1.cdninstagram.com/vp/b2...   \n",
      "1   brooke.olson  https://scontent-arn2-1.cdninstagram.com/vp/84...   \n",
      "2   brooke.olson  https://scontent-arn2-1.cdninstagram.com/vp/a7...   \n",
      "3   brooke.olson  https://scontent-arn2-1.cdninstagram.com/vp/2e...   \n",
      "4   brooke.olson  https://scontent-arn2-1.cdninstagram.com/vp/a3...   \n",
      "\n",
      "                                             caption  \n",
      "0                   Still dysfunctional after take 2  \n",
      "1                            Heyyyyyyy rose #chicago  \n",
      "2                      Friendos on the fourth!🏄🏽‍♀️🎉  \n",
      "3  Congrats Laur!! So proud of everything you hav...  \n",
      "4                                  Love my friendos💎  \n"
     ]
    }
   ],
   "source": [
    "from PIL import Image\n",
    "import requests as rq\n",
    "from io import BytesIO\n",
    "import pandas as pd\n",
    "import numpy as np\n",
    "from keras.applications.resnet50 import ResNet50\n",
    "from keras.preprocessing import image\n",
    "from keras.applications.resnet50 import preprocess_input, decode_predictions\n",
    "import numpy as np\n",
    "\n",
    "data = pd.read_csv(\"data_sejal.csv\")\n",
    "images = []\n",
    "captions = data.caption\n",
    "for url in data.photo:\n",
    "    response = rq.get(url)\n",
    "    img = Image.open(BytesIO(response.content)).resize((224,224))\n",
    "    x = image.img_to_array(img)\n",
    "    x = np.expand_dims(x, axis=0)\n",
    "    x = preprocess_input(x)\n",
    "    images.append(x)"
   ]
  },
  {
   "cell_type": "code",
   "execution_count": null,
   "metadata": {},
   "outputs": [],
   "source": []
  }
 ],
 "metadata": {
  "kernelspec": {
   "display_name": "Python 3",
   "language": "python",
   "name": "python3"
  },
  "language_info": {
   "codemirror_mode": {
    "name": "ipython",
    "version": 3
   },
   "file_extension": ".py",
   "mimetype": "text/x-python",
   "name": "python",
   "nbconvert_exporter": "python",
   "pygments_lexer": "ipython3",
   "version": "3.7.3"
  },
  "toc": {
   "base_numbering": 1,
   "nav_menu": {},
   "number_sections": true,
   "sideBar": true,
   "skip_h1_title": false,
   "title_cell": "Table of Contents",
   "title_sidebar": "Contents",
   "toc_cell": false,
   "toc_position": {},
   "toc_section_display": true,
   "toc_window_display": false
  },
  "varInspector": {
   "cols": {
    "lenName": 16,
    "lenType": 16,
    "lenVar": 40
   },
   "kernels_config": {
    "python": {
     "delete_cmd_postfix": "",
     "delete_cmd_prefix": "del ",
     "library": "var_list.py",
     "varRefreshCmd": "print(var_dic_list())"
    },
    "r": {
     "delete_cmd_postfix": ") ",
     "delete_cmd_prefix": "rm(",
     "library": "var_list.r",
     "varRefreshCmd": "cat(var_dic_list()) "
    }
   },
   "types_to_exclude": [
    "module",
    "function",
    "builtin_function_or_method",
    "instance",
    "_Feature"
   ],
   "window_display": false
  }
 },
 "nbformat": 4,
 "nbformat_minor": 2
}
